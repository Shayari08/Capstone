{
  "nbformat": 4,
  "nbformat_minor": 0,
  "metadata": {
    "colab": {
      "provenance": [],
      "gpuType": "T4"
    },
    "kernelspec": {
      "name": "python3",
      "display_name": "Python 3"
    },
    "language_info": {
      "name": "python"
    },
    "accelerator": "GPU"
  },
  "cells": [
    {
      "cell_type": "markdown",
      "source": [
        "PHASE 2"
      ],
      "metadata": {
        "id": "L2J0ifPjIpYm"
      }
    },
    {
      "cell_type": "code",
      "execution_count": null,
      "metadata": {
        "colab": {
          "base_uri": "https://localhost:8080/"
        },
        "id": "SY4gCNkRIkuc",
        "outputId": "7c98778a-ed7f-4269-d2c8-b222b86ba5b1"
      },
      "outputs": [
        {
          "output_type": "stream",
          "name": "stdout",
          "text": [
            "\u001b[?25l   \u001b[90m━━━━━━━━━━━━━━━━━━━━━━━━━━━━━━━━━━━━━━━━\u001b[0m \u001b[32m0.0/126.7 kB\u001b[0m \u001b[31m?\u001b[0m eta \u001b[36m-:--:--\u001b[0m\r\u001b[2K   \u001b[90m━━━━━━━━━━━━━━━━━━━━━━━━━━━━━━━━━━━━━━━━\u001b[0m \u001b[32m126.7/126.7 kB\u001b[0m \u001b[31m4.5 MB/s\u001b[0m eta \u001b[36m0:00:00\u001b[0m\n",
            "\u001b[?25h"
          ]
        }
      ],
      "source": [
        "!pip install -q -U groq"
      ]
    },
    {
      "cell_type": "code",
      "source": [
        "import os\n",
        "from groq import Groq\n",
        "from google.colab import files\n",
        "\n",
        "GROQ_API_KEY = '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'\n",
        "\n",
        "client = Groq(\n",
        "    api_key=GROQ_API_KEY,\n",
        ")\n",
        "\n",
        "# Function to upload a file\n",
        "def upload_file():\n",
        "    print(\"Please upload the 'asl_input.txt' file.\")\n",
        "    uploaded = files.upload()\n",
        "    return list(uploaded.keys())[0]  # Return the filename\n",
        "\n",
        "# Function to read ASL words from a file\n",
        "def read_asl_words(file_path):\n",
        "    with open(file_path, \"r\") as file:\n",
        "        content = file.read().strip()\n",
        "    asl_words = content.replace(\",\", \" \").split()  # Handle commas or spaces\n",
        "    return asl_words\n",
        "\n",
        "# Function to correct grammar and structure sentences\n",
        "def correct_grammar(asl_words):\n",
        "    prompt = (\n",
        "        \"The following list of words were recognized from American Sign Language (ASL). \"\n",
        "        \"Correct the grammar and organize them into separate sentences with proper grammar. \"\n",
        "        \"Do not use any other punctuation other than full stops. \"\n",
        "        \"Here are the ASL words: \"\n",
        "        f\"{', '.join(asl_words)}\"\n",
        "    )\n",
        "\n",
        "    chat_completion = client.chat.completions.create(\n",
        "        messages=[\n",
        "            {\"role\": \"user\", \"content\": prompt}\n",
        "        ],\n",
        "        model=\"llama-3.3-70b-versatile\",\n",
        "    )\n",
        "\n",
        "    return chat_completion.choices[0].message.content\n",
        "\n",
        "# Function to convert corrected English sentences into ISL format\n",
        "def convert_to_isl(corrected_sentences):\n",
        "    prompt = (\n",
        "        \"Convert the following English sentences into Indian Sign Language (ISL) format following Subject-Object-Verb (SOV) structure. \"\n",
        "        \"Output only the final ISL words and nothing else. \"\n",
        "        \"Separate the sentences using full stops. \"\n",
        "        f\"{corrected_sentences}\"\n",
        "    )\n",
        "\n",
        "    chat_completion = client.chat.completions.create(\n",
        "        messages=[\n",
        "            {\"role\": \"user\", \"content\": prompt}\n",
        "        ],\n",
        "        model=\"llama-3.3-70b-versatile\",\n",
        "    )\n",
        "\n",
        "    return chat_completion.choices[0].message.content\n",
        "\n",
        "# Function to format ISL output\n",
        "def format_isl_output(input_file, output_file):\n",
        "    with open(input_file, \"r\") as file:\n",
        "        text = file.read()\n",
        "\n",
        "    formatted_text = text.replace(\". \", \".\")  # Trim spaces after full stops\n",
        "    formatted_text = formatted_text.replace(\" \", \",\")  # Replace remaining spaces with commas\n",
        "    formatted_text = formatted_text.replace(\".\", \";\")  # Replace full stops with semicolons\n",
        "\n",
        "    with open(output_file, \"w\") as file:\n",
        "        file.write(formatted_text)\n",
        "\n",
        "# Upload file and get file path\n",
        "uploaded_file = upload_file()\n",
        "asl_input_path = f\"/content/{uploaded_file}\"\n",
        "\n",
        "# File paths\n",
        "input_file_path = \"/content/input.txt\"  # Intermediate ISL output file\n",
        "output_file_path = \"/content/input_words.txt\"  # Final formatted ISL output file\n",
        "\n",
        "# Step 1: Read ASL words from file\n",
        "asl_words = read_asl_words(asl_input_path)\n",
        "\n",
        "# Step 2: Correct grammar in ASL words\n",
        "corrected_sentences = correct_grammar(asl_words)\n",
        "\n",
        "# Step 3: Convert corrected sentences to ISL format\n",
        "isl_output = convert_to_isl(corrected_sentences)\n",
        "\n",
        "# Save ISL output to a text file\n",
        "with open(input_file_path, \"w\") as file:\n",
        "    file.write(isl_output)\n",
        "\n",
        "# Step 4: Format ISL output and save\n",
        "format_isl_output(input_file_path, output_file_path)\n",
        "\n",
        "print(f\"Formatted output saved to {output_file_path}\")"
      ],
      "metadata": {
        "colab": {
          "base_uri": "https://localhost:8080/",
          "height": 108
        },
        "id": "zCup4QooQMbB",
        "outputId": "b4c7f657-23e3-4ce3-d952-4c05dfff359b"
      },
      "execution_count": null,
      "outputs": [
        {
          "output_type": "stream",
          "name": "stdout",
          "text": [
            "Please upload the 'asl_input.txt' file.\n"
          ]
        },
        {
          "output_type": "display_data",
          "data": {
            "text/plain": [
              "<IPython.core.display.HTML object>"
            ],
            "text/html": [
              "\n",
              "     <input type=\"file\" id=\"files-8b41f275-09ed-4526-be58-b849c86bca5c\" name=\"files[]\" multiple disabled\n",
              "        style=\"border:none\" />\n",
              "     <output id=\"result-8b41f275-09ed-4526-be58-b849c86bca5c\">\n",
              "      Upload widget is only available when the cell has been executed in the\n",
              "      current browser session. Please rerun this cell to enable.\n",
              "      </output>\n",
              "      <script>// Copyright 2017 Google LLC\n",
              "//\n",
              "// Licensed under the Apache License, Version 2.0 (the \"License\");\n",
              "// you may not use this file except in compliance with the License.\n",
              "// You may obtain a copy of the License at\n",
              "//\n",
              "//      http://www.apache.org/licenses/LICENSE-2.0\n",
              "//\n",
              "// Unless required by applicable law or agreed to in writing, software\n",
              "// distributed under the License is distributed on an \"AS IS\" BASIS,\n",
              "// WITHOUT WARRANTIES OR CONDITIONS OF ANY KIND, either express or implied.\n",
              "// See the License for the specific language governing permissions and\n",
              "// limitations under the License.\n",
              "\n",
              "/**\n",
              " * @fileoverview Helpers for google.colab Python module.\n",
              " */\n",
              "(function(scope) {\n",
              "function span(text, styleAttributes = {}) {\n",
              "  const element = document.createElement('span');\n",
              "  element.textContent = text;\n",
              "  for (const key of Object.keys(styleAttributes)) {\n",
              "    element.style[key] = styleAttributes[key];\n",
              "  }\n",
              "  return element;\n",
              "}\n",
              "\n",
              "// Max number of bytes which will be uploaded at a time.\n",
              "const MAX_PAYLOAD_SIZE = 100 * 1024;\n",
              "\n",
              "function _uploadFiles(inputId, outputId) {\n",
              "  const steps = uploadFilesStep(inputId, outputId);\n",
              "  const outputElement = document.getElementById(outputId);\n",
              "  // Cache steps on the outputElement to make it available for the next call\n",
              "  // to uploadFilesContinue from Python.\n",
              "  outputElement.steps = steps;\n",
              "\n",
              "  return _uploadFilesContinue(outputId);\n",
              "}\n",
              "\n",
              "// This is roughly an async generator (not supported in the browser yet),\n",
              "// where there are multiple asynchronous steps and the Python side is going\n",
              "// to poll for completion of each step.\n",
              "// This uses a Promise to block the python side on completion of each step,\n",
              "// then passes the result of the previous step as the input to the next step.\n",
              "function _uploadFilesContinue(outputId) {\n",
              "  const outputElement = document.getElementById(outputId);\n",
              "  const steps = outputElement.steps;\n",
              "\n",
              "  const next = steps.next(outputElement.lastPromiseValue);\n",
              "  return Promise.resolve(next.value.promise).then((value) => {\n",
              "    // Cache the last promise value to make it available to the next\n",
              "    // step of the generator.\n",
              "    outputElement.lastPromiseValue = value;\n",
              "    return next.value.response;\n",
              "  });\n",
              "}\n",
              "\n",
              "/**\n",
              " * Generator function which is called between each async step of the upload\n",
              " * process.\n",
              " * @param {string} inputId Element ID of the input file picker element.\n",
              " * @param {string} outputId Element ID of the output display.\n",
              " * @return {!Iterable<!Object>} Iterable of next steps.\n",
              " */\n",
              "function* uploadFilesStep(inputId, outputId) {\n",
              "  const inputElement = document.getElementById(inputId);\n",
              "  inputElement.disabled = false;\n",
              "\n",
              "  const outputElement = document.getElementById(outputId);\n",
              "  outputElement.innerHTML = '';\n",
              "\n",
              "  const pickedPromise = new Promise((resolve) => {\n",
              "    inputElement.addEventListener('change', (e) => {\n",
              "      resolve(e.target.files);\n",
              "    });\n",
              "  });\n",
              "\n",
              "  const cancel = document.createElement('button');\n",
              "  inputElement.parentElement.appendChild(cancel);\n",
              "  cancel.textContent = 'Cancel upload';\n",
              "  const cancelPromise = new Promise((resolve) => {\n",
              "    cancel.onclick = () => {\n",
              "      resolve(null);\n",
              "    };\n",
              "  });\n",
              "\n",
              "  // Wait for the user to pick the files.\n",
              "  const files = yield {\n",
              "    promise: Promise.race([pickedPromise, cancelPromise]),\n",
              "    response: {\n",
              "      action: 'starting',\n",
              "    }\n",
              "  };\n",
              "\n",
              "  cancel.remove();\n",
              "\n",
              "  // Disable the input element since further picks are not allowed.\n",
              "  inputElement.disabled = true;\n",
              "\n",
              "  if (!files) {\n",
              "    return {\n",
              "      response: {\n",
              "        action: 'complete',\n",
              "      }\n",
              "    };\n",
              "  }\n",
              "\n",
              "  for (const file of files) {\n",
              "    const li = document.createElement('li');\n",
              "    li.append(span(file.name, {fontWeight: 'bold'}));\n",
              "    li.append(span(\n",
              "        `(${file.type || 'n/a'}) - ${file.size} bytes, ` +\n",
              "        `last modified: ${\n",
              "            file.lastModifiedDate ? file.lastModifiedDate.toLocaleDateString() :\n",
              "                                    'n/a'} - `));\n",
              "    const percent = span('0% done');\n",
              "    li.appendChild(percent);\n",
              "\n",
              "    outputElement.appendChild(li);\n",
              "\n",
              "    const fileDataPromise = new Promise((resolve) => {\n",
              "      const reader = new FileReader();\n",
              "      reader.onload = (e) => {\n",
              "        resolve(e.target.result);\n",
              "      };\n",
              "      reader.readAsArrayBuffer(file);\n",
              "    });\n",
              "    // Wait for the data to be ready.\n",
              "    let fileData = yield {\n",
              "      promise: fileDataPromise,\n",
              "      response: {\n",
              "        action: 'continue',\n",
              "      }\n",
              "    };\n",
              "\n",
              "    // Use a chunked sending to avoid message size limits. See b/62115660.\n",
              "    let position = 0;\n",
              "    do {\n",
              "      const length = Math.min(fileData.byteLength - position, MAX_PAYLOAD_SIZE);\n",
              "      const chunk = new Uint8Array(fileData, position, length);\n",
              "      position += length;\n",
              "\n",
              "      const base64 = btoa(String.fromCharCode.apply(null, chunk));\n",
              "      yield {\n",
              "        response: {\n",
              "          action: 'append',\n",
              "          file: file.name,\n",
              "          data: base64,\n",
              "        },\n",
              "      };\n",
              "\n",
              "      let percentDone = fileData.byteLength === 0 ?\n",
              "          100 :\n",
              "          Math.round((position / fileData.byteLength) * 100);\n",
              "      percent.textContent = `${percentDone}% done`;\n",
              "\n",
              "    } while (position < fileData.byteLength);\n",
              "  }\n",
              "\n",
              "  // All done.\n",
              "  yield {\n",
              "    response: {\n",
              "      action: 'complete',\n",
              "    }\n",
              "  };\n",
              "}\n",
              "\n",
              "scope.google = scope.google || {};\n",
              "scope.google.colab = scope.google.colab || {};\n",
              "scope.google.colab._files = {\n",
              "  _uploadFiles,\n",
              "  _uploadFilesContinue,\n",
              "};\n",
              "})(self);\n",
              "</script> "
            ]
          },
          "metadata": {}
        },
        {
          "output_type": "stream",
          "name": "stdout",
          "text": [
            "Saving gloss.txt to gloss.txt\n",
            "Formatted output saved to /content/input_words.txt\n"
          ]
        }
      ]
    },
    {
      "cell_type": "markdown",
      "source": [
        "PHASE 3"
      ],
      "metadata": {
        "id": "QjctrlxZQOS2"
      }
    },
    {
      "cell_type": "code",
      "source": [
        "!pip install pytube\n",
        "!pip install yt_dlp moviepy ipywidgets"
      ],
      "metadata": {
        "colab": {
          "base_uri": "https://localhost:8080/"
        },
        "collapsed": true,
        "id": "T0EE7IBMQYkO",
        "outputId": "df9c3bba-82fe-4db7-f902-c3c3f9768028"
      },
      "execution_count": null,
      "outputs": [
        {
          "output_type": "stream",
          "name": "stdout",
          "text": [
            "Collecting pytube\n",
            "  Downloading pytube-15.0.0-py3-none-any.whl.metadata (5.0 kB)\n",
            "Downloading pytube-15.0.0-py3-none-any.whl (57 kB)\n",
            "\u001b[?25l   \u001b[90m━━━━━━━━━━━━━━━━━━━━━━━━━━━━━━━━━━━━━━━━\u001b[0m \u001b[32m0.0/57.6 kB\u001b[0m \u001b[31m?\u001b[0m eta \u001b[36m-:--:--\u001b[0m\r\u001b[2K   \u001b[90m━━━━━━━━━━━━━━━━━━━━━━━━━━━━━━━━━━━━━━━━\u001b[0m \u001b[32m57.6/57.6 kB\u001b[0m \u001b[31m3.4 MB/s\u001b[0m eta \u001b[36m0:00:00\u001b[0m\n",
            "\u001b[?25hInstalling collected packages: pytube\n",
            "Successfully installed pytube-15.0.0\n",
            "Collecting yt_dlp\n",
            "  Downloading yt_dlp-2025.3.31-py3-none-any.whl.metadata (172 kB)\n",
            "\u001b[2K     \u001b[90m━━━━━━━━━━━━━━━━━━━━━━━━━━━━━━━━━━━━━━━\u001b[0m \u001b[32m172.2/172.2 kB\u001b[0m \u001b[31m5.1 MB/s\u001b[0m eta \u001b[36m0:00:00\u001b[0m\n",
            "\u001b[?25hRequirement already satisfied: moviepy in /usr/local/lib/python3.11/dist-packages (1.0.3)\n",
            "Requirement already satisfied: ipywidgets in /usr/local/lib/python3.11/dist-packages (7.7.1)\n",
            "Requirement already satisfied: decorator<5.0,>=4.0.2 in /usr/local/lib/python3.11/dist-packages (from moviepy) (4.4.2)\n",
            "Requirement already satisfied: tqdm<5.0,>=4.11.2 in /usr/local/lib/python3.11/dist-packages (from moviepy) (4.67.1)\n",
            "Requirement already satisfied: requests<3.0,>=2.8.1 in /usr/local/lib/python3.11/dist-packages (from moviepy) (2.32.3)\n",
            "Requirement already satisfied: proglog<=1.0.0 in /usr/local/lib/python3.11/dist-packages (from moviepy) (0.1.11)\n",
            "Requirement already satisfied: numpy>=1.17.3 in /usr/local/lib/python3.11/dist-packages (from moviepy) (2.0.2)\n",
            "Requirement already satisfied: imageio<3.0,>=2.5 in /usr/local/lib/python3.11/dist-packages (from moviepy) (2.37.0)\n",
            "Requirement already satisfied: imageio-ffmpeg>=0.2.0 in /usr/local/lib/python3.11/dist-packages (from moviepy) (0.6.0)\n",
            "Requirement already satisfied: ipykernel>=4.5.1 in /usr/local/lib/python3.11/dist-packages (from ipywidgets) (6.17.1)\n",
            "Requirement already satisfied: ipython-genutils~=0.2.0 in /usr/local/lib/python3.11/dist-packages (from ipywidgets) (0.2.0)\n",
            "Requirement already satisfied: traitlets>=4.3.1 in /usr/local/lib/python3.11/dist-packages (from ipywidgets) (5.7.1)\n",
            "Requirement already satisfied: widgetsnbextension~=3.6.0 in /usr/local/lib/python3.11/dist-packages (from ipywidgets) (3.6.10)\n",
            "Requirement already satisfied: ipython>=4.0.0 in /usr/local/lib/python3.11/dist-packages (from ipywidgets) (7.34.0)\n",
            "Requirement already satisfied: jupyterlab-widgets>=1.0.0 in /usr/local/lib/python3.11/dist-packages (from ipywidgets) (3.0.13)\n",
            "Requirement already satisfied: pillow>=8.3.2 in /usr/local/lib/python3.11/dist-packages (from imageio<3.0,>=2.5->moviepy) (11.1.0)\n",
            "Requirement already satisfied: debugpy>=1.0 in /usr/local/lib/python3.11/dist-packages (from ipykernel>=4.5.1->ipywidgets) (1.8.0)\n",
            "Requirement already satisfied: jupyter-client>=6.1.12 in /usr/local/lib/python3.11/dist-packages (from ipykernel>=4.5.1->ipywidgets) (6.1.12)\n",
            "Requirement already satisfied: matplotlib-inline>=0.1 in /usr/local/lib/python3.11/dist-packages (from ipykernel>=4.5.1->ipywidgets) (0.1.7)\n",
            "Requirement already satisfied: nest-asyncio in /usr/local/lib/python3.11/dist-packages (from ipykernel>=4.5.1->ipywidgets) (1.6.0)\n",
            "Requirement already satisfied: packaging in /usr/local/lib/python3.11/dist-packages (from ipykernel>=4.5.1->ipywidgets) (24.2)\n",
            "Requirement already satisfied: psutil in /usr/local/lib/python3.11/dist-packages (from ipykernel>=4.5.1->ipywidgets) (5.9.5)\n",
            "Requirement already satisfied: pyzmq>=17 in /usr/local/lib/python3.11/dist-packages (from ipykernel>=4.5.1->ipywidgets) (24.0.1)\n",
            "Requirement already satisfied: tornado>=6.1 in /usr/local/lib/python3.11/dist-packages (from ipykernel>=4.5.1->ipywidgets) (6.4.2)\n",
            "Requirement already satisfied: setuptools>=18.5 in /usr/local/lib/python3.11/dist-packages (from ipython>=4.0.0->ipywidgets) (75.2.0)\n",
            "Collecting jedi>=0.16 (from ipython>=4.0.0->ipywidgets)\n",
            "  Downloading jedi-0.19.2-py2.py3-none-any.whl.metadata (22 kB)\n",
            "Requirement already satisfied: pickleshare in /usr/local/lib/python3.11/dist-packages (from ipython>=4.0.0->ipywidgets) (0.7.5)\n",
            "Requirement already satisfied: prompt-toolkit!=3.0.0,!=3.0.1,<3.1.0,>=2.0.0 in /usr/local/lib/python3.11/dist-packages (from ipython>=4.0.0->ipywidgets) (3.0.50)\n",
            "Requirement already satisfied: pygments in /usr/local/lib/python3.11/dist-packages (from ipython>=4.0.0->ipywidgets) (2.18.0)\n",
            "Requirement already satisfied: backcall in /usr/local/lib/python3.11/dist-packages (from ipython>=4.0.0->ipywidgets) (0.2.0)\n",
            "Requirement already satisfied: pexpect>4.3 in /usr/local/lib/python3.11/dist-packages (from ipython>=4.0.0->ipywidgets) (4.9.0)\n",
            "Requirement already satisfied: charset-normalizer<4,>=2 in /usr/local/lib/python3.11/dist-packages (from requests<3.0,>=2.8.1->moviepy) (3.4.1)\n",
            "Requirement already satisfied: idna<4,>=2.5 in /usr/local/lib/python3.11/dist-packages (from requests<3.0,>=2.8.1->moviepy) (3.10)\n",
            "Requirement already satisfied: urllib3<3,>=1.21.1 in /usr/local/lib/python3.11/dist-packages (from requests<3.0,>=2.8.1->moviepy) (2.3.0)\n",
            "Requirement already satisfied: certifi>=2017.4.17 in /usr/local/lib/python3.11/dist-packages (from requests<3.0,>=2.8.1->moviepy) (2025.1.31)\n",
            "Requirement already satisfied: notebook>=4.4.1 in /usr/local/lib/python3.11/dist-packages (from widgetsnbextension~=3.6.0->ipywidgets) (6.5.7)\n",
            "Requirement already satisfied: parso<0.9.0,>=0.8.4 in /usr/local/lib/python3.11/dist-packages (from jedi>=0.16->ipython>=4.0.0->ipywidgets) (0.8.4)\n",
            "Requirement already satisfied: jupyter-core>=4.6.0 in /usr/local/lib/python3.11/dist-packages (from jupyter-client>=6.1.12->ipykernel>=4.5.1->ipywidgets) (5.7.2)\n",
            "Requirement already satisfied: python-dateutil>=2.1 in /usr/local/lib/python3.11/dist-packages (from jupyter-client>=6.1.12->ipykernel>=4.5.1->ipywidgets) (2.8.2)\n",
            "Requirement already satisfied: jinja2 in /usr/local/lib/python3.11/dist-packages (from notebook>=4.4.1->widgetsnbextension~=3.6.0->ipywidgets) (3.1.6)\n",
            "Requirement already satisfied: argon2-cffi in /usr/local/lib/python3.11/dist-packages (from notebook>=4.4.1->widgetsnbextension~=3.6.0->ipywidgets) (23.1.0)\n",
            "Requirement already satisfied: nbformat in /usr/local/lib/python3.11/dist-packages (from notebook>=4.4.1->widgetsnbextension~=3.6.0->ipywidgets) (5.10.4)\n",
            "Requirement already satisfied: nbconvert>=5 in /usr/local/lib/python3.11/dist-packages (from notebook>=4.4.1->widgetsnbextension~=3.6.0->ipywidgets) (7.16.6)\n",
            "Requirement already satisfied: Send2Trash>=1.8.0 in /usr/local/lib/python3.11/dist-packages (from notebook>=4.4.1->widgetsnbextension~=3.6.0->ipywidgets) (1.8.3)\n",
            "Requirement already satisfied: terminado>=0.8.3 in /usr/local/lib/python3.11/dist-packages (from notebook>=4.4.1->widgetsnbextension~=3.6.0->ipywidgets) (0.18.1)\n",
            "Requirement already satisfied: prometheus-client in /usr/local/lib/python3.11/dist-packages (from notebook>=4.4.1->widgetsnbextension~=3.6.0->ipywidgets) (0.21.1)\n",
            "Requirement already satisfied: nbclassic>=0.4.7 in /usr/local/lib/python3.11/dist-packages (from notebook>=4.4.1->widgetsnbextension~=3.6.0->ipywidgets) (1.2.0)\n",
            "Requirement already satisfied: ptyprocess>=0.5 in /usr/local/lib/python3.11/dist-packages (from pexpect>4.3->ipython>=4.0.0->ipywidgets) (0.7.0)\n",
            "Requirement already satisfied: wcwidth in /usr/local/lib/python3.11/dist-packages (from prompt-toolkit!=3.0.0,!=3.0.1,<3.1.0,>=2.0.0->ipython>=4.0.0->ipywidgets) (0.2.13)\n",
            "Requirement already satisfied: platformdirs>=2.5 in /usr/local/lib/python3.11/dist-packages (from jupyter-core>=4.6.0->jupyter-client>=6.1.12->ipykernel>=4.5.1->ipywidgets) (4.3.7)\n",
            "Requirement already satisfied: notebook-shim>=0.2.3 in /usr/local/lib/python3.11/dist-packages (from nbclassic>=0.4.7->notebook>=4.4.1->widgetsnbextension~=3.6.0->ipywidgets) (0.2.4)\n",
            "Requirement already satisfied: beautifulsoup4 in /usr/local/lib/python3.11/dist-packages (from nbconvert>=5->notebook>=4.4.1->widgetsnbextension~=3.6.0->ipywidgets) (4.13.3)\n",
            "Requirement already satisfied: bleach!=5.0.0 in /usr/local/lib/python3.11/dist-packages (from bleach[css]!=5.0.0->nbconvert>=5->notebook>=4.4.1->widgetsnbextension~=3.6.0->ipywidgets) (6.2.0)\n",
            "Requirement already satisfied: defusedxml in /usr/local/lib/python3.11/dist-packages (from nbconvert>=5->notebook>=4.4.1->widgetsnbextension~=3.6.0->ipywidgets) (0.7.1)\n",
            "Requirement already satisfied: jupyterlab-pygments in /usr/local/lib/python3.11/dist-packages (from nbconvert>=5->notebook>=4.4.1->widgetsnbextension~=3.6.0->ipywidgets) (0.3.0)\n",
            "Requirement already satisfied: markupsafe>=2.0 in /usr/local/lib/python3.11/dist-packages (from nbconvert>=5->notebook>=4.4.1->widgetsnbextension~=3.6.0->ipywidgets) (3.0.2)\n",
            "Requirement already satisfied: mistune<4,>=2.0.3 in /usr/local/lib/python3.11/dist-packages (from nbconvert>=5->notebook>=4.4.1->widgetsnbextension~=3.6.0->ipywidgets) (3.1.3)\n",
            "Requirement already satisfied: nbclient>=0.5.0 in /usr/local/lib/python3.11/dist-packages (from nbconvert>=5->notebook>=4.4.1->widgetsnbextension~=3.6.0->ipywidgets) (0.10.2)\n",
            "Requirement already satisfied: pandocfilters>=1.4.1 in /usr/local/lib/python3.11/dist-packages (from nbconvert>=5->notebook>=4.4.1->widgetsnbextension~=3.6.0->ipywidgets) (1.5.1)\n",
            "Requirement already satisfied: fastjsonschema>=2.15 in /usr/local/lib/python3.11/dist-packages (from nbformat->notebook>=4.4.1->widgetsnbextension~=3.6.0->ipywidgets) (2.21.1)\n",
            "Requirement already satisfied: jsonschema>=2.6 in /usr/local/lib/python3.11/dist-packages (from nbformat->notebook>=4.4.1->widgetsnbextension~=3.6.0->ipywidgets) (4.23.0)\n",
            "Requirement already satisfied: six>=1.5 in /usr/local/lib/python3.11/dist-packages (from python-dateutil>=2.1->jupyter-client>=6.1.12->ipykernel>=4.5.1->ipywidgets) (1.17.0)\n",
            "Requirement already satisfied: argon2-cffi-bindings in /usr/local/lib/python3.11/dist-packages (from argon2-cffi->notebook>=4.4.1->widgetsnbextension~=3.6.0->ipywidgets) (21.2.0)\n",
            "Requirement already satisfied: webencodings in /usr/local/lib/python3.11/dist-packages (from bleach!=5.0.0->bleach[css]!=5.0.0->nbconvert>=5->notebook>=4.4.1->widgetsnbextension~=3.6.0->ipywidgets) (0.5.1)\n",
            "Requirement already satisfied: tinycss2<1.5,>=1.1.0 in /usr/local/lib/python3.11/dist-packages (from bleach[css]!=5.0.0->nbconvert>=5->notebook>=4.4.1->widgetsnbextension~=3.6.0->ipywidgets) (1.4.0)\n",
            "Requirement already satisfied: attrs>=22.2.0 in /usr/local/lib/python3.11/dist-packages (from jsonschema>=2.6->nbformat->notebook>=4.4.1->widgetsnbextension~=3.6.0->ipywidgets) (25.3.0)\n",
            "Requirement already satisfied: jsonschema-specifications>=2023.03.6 in /usr/local/lib/python3.11/dist-packages (from jsonschema>=2.6->nbformat->notebook>=4.4.1->widgetsnbextension~=3.6.0->ipywidgets) (2024.10.1)\n",
            "Requirement already satisfied: referencing>=0.28.4 in /usr/local/lib/python3.11/dist-packages (from jsonschema>=2.6->nbformat->notebook>=4.4.1->widgetsnbextension~=3.6.0->ipywidgets) (0.36.2)\n",
            "Requirement already satisfied: rpds-py>=0.7.1 in /usr/local/lib/python3.11/dist-packages (from jsonschema>=2.6->nbformat->notebook>=4.4.1->widgetsnbextension~=3.6.0->ipywidgets) (0.24.0)\n",
            "Requirement already satisfied: jupyter-server<3,>=1.8 in /usr/local/lib/python3.11/dist-packages (from notebook-shim>=0.2.3->nbclassic>=0.4.7->notebook>=4.4.1->widgetsnbextension~=3.6.0->ipywidgets) (1.16.0)\n",
            "Requirement already satisfied: cffi>=1.0.1 in /usr/local/lib/python3.11/dist-packages (from argon2-cffi-bindings->argon2-cffi->notebook>=4.4.1->widgetsnbextension~=3.6.0->ipywidgets) (1.17.1)\n",
            "Requirement already satisfied: soupsieve>1.2 in /usr/local/lib/python3.11/dist-packages (from beautifulsoup4->nbconvert>=5->notebook>=4.4.1->widgetsnbextension~=3.6.0->ipywidgets) (2.6)\n",
            "Requirement already satisfied: typing-extensions>=4.0.0 in /usr/local/lib/python3.11/dist-packages (from beautifulsoup4->nbconvert>=5->notebook>=4.4.1->widgetsnbextension~=3.6.0->ipywidgets) (4.13.1)\n",
            "Requirement already satisfied: pycparser in /usr/local/lib/python3.11/dist-packages (from cffi>=1.0.1->argon2-cffi-bindings->argon2-cffi->notebook>=4.4.1->widgetsnbextension~=3.6.0->ipywidgets) (2.22)\n",
            "Requirement already satisfied: anyio>=3.1.0 in /usr/local/lib/python3.11/dist-packages (from jupyter-server<3,>=1.8->notebook-shim>=0.2.3->nbclassic>=0.4.7->notebook>=4.4.1->widgetsnbextension~=3.6.0->ipywidgets) (4.9.0)\n",
            "Requirement already satisfied: websocket-client in /usr/local/lib/python3.11/dist-packages (from jupyter-server<3,>=1.8->notebook-shim>=0.2.3->nbclassic>=0.4.7->notebook>=4.4.1->widgetsnbextension~=3.6.0->ipywidgets) (1.8.0)\n",
            "Requirement already satisfied: sniffio>=1.1 in /usr/local/lib/python3.11/dist-packages (from anyio>=3.1.0->jupyter-server<3,>=1.8->notebook-shim>=0.2.3->nbclassic>=0.4.7->notebook>=4.4.1->widgetsnbextension~=3.6.0->ipywidgets) (1.3.1)\n",
            "Downloading yt_dlp-2025.3.31-py3-none-any.whl (3.2 MB)\n",
            "\u001b[2K   \u001b[90m━━━━━━━━━━━━━━━━━━━━━━━━━━━━━━━━━━━━━━━━\u001b[0m \u001b[32m3.2/3.2 MB\u001b[0m \u001b[31m34.8 MB/s\u001b[0m eta \u001b[36m0:00:00\u001b[0m\n",
            "\u001b[?25hDownloading jedi-0.19.2-py2.py3-none-any.whl (1.6 MB)\n",
            "\u001b[2K   \u001b[90m━━━━━━━━━━━━━━━━━━━━━━━━━━━━━━━━━━━━━━━━\u001b[0m \u001b[32m1.6/1.6 MB\u001b[0m \u001b[31m36.6 MB/s\u001b[0m eta \u001b[36m0:00:00\u001b[0m\n",
            "\u001b[?25hInstalling collected packages: yt_dlp, jedi\n",
            "Successfully installed jedi-0.19.2 yt_dlp-2025.3.31\n"
          ]
        }
      ]
    },
    {
      "cell_type": "code",
      "source": [
        "import os\n",
        "import json\n",
        "import yt_dlp\n",
        "import moviepy.editor as mp\n",
        "import warnings\n",
        "from google.colab import drive\n",
        "from google.colab import files\n",
        "import re"
      ],
      "metadata": {
        "colab": {
          "base_uri": "https://localhost:8080/"
        },
        "id": "3luaR8WcQZSc",
        "outputId": "e2e6b2ba-1291-4bba-d8ae-82ae00e92ecc"
      },
      "execution_count": null,
      "outputs": [
        {
          "output_type": "stream",
          "name": "stderr",
          "text": [
            "WARNING:py.warnings:/usr/local/lib/python3.11/dist-packages/moviepy/video/io/sliders.py:61: SyntaxWarning: \"is\" with a literal. Did you mean \"==\"?\n",
            "  if event.key is 'enter':\n",
            "\n"
          ]
        }
      ]
    },
    {
      "cell_type": "code",
      "source": [
        "drive.mount('/content/drive')"
      ],
      "metadata": {
        "colab": {
          "base_uri": "https://localhost:8080/"
        },
        "id": "-hXlu5elQb9W",
        "outputId": "7a94e304-147a-4ae0-e6f4-9425f94e7050"
      },
      "execution_count": null,
      "outputs": [
        {
          "output_type": "stream",
          "name": "stdout",
          "text": [
            "Mounted at /content/drive\n"
          ]
        }
      ]
    },
    {
      "cell_type": "code",
      "source": [
        "# === STEP 1: DEFINE PATHS === #\n",
        "LETTER_IMAGES_DIR = \"/content/drive/MyDrive/isl_fingerspell\"  # Folder with letter images\n",
        "PLAYLIST_JSON_PATH = \"/content/drive/MyDrive/final_modified_playlist_videos.json\"  # JSON with ISL words and videos\n",
        "INPUT_WORDS_FILE = \"/content/input_words.txt\"  # File containing words & sentences\n",
        "SAVE_DIR = \"/content/\"  # Directory to save individual word videos\n",
        "\n",
        "# Ensure save directory exists\n",
        "os.makedirs(SAVE_DIR, exist_ok=True)\n",
        "\n",
        "# Check if playlist JSON exists\n",
        "if not os.path.exists(PLAYLIST_JSON_PATH):\n",
        "    raise FileNotFoundError(f\"❌ Playlist file '{PLAYLIST_JSON_PATH}' not found! Upload it to Colab.\")\n",
        "\n",
        "# Check if input words file exists\n",
        "if not os.path.exists(INPUT_WORDS_FILE):\n",
        "    raise FileNotFoundError(f\"❌ Input words file '{INPUT_WORDS_FILE}' not found! Create it first.\")\n",
        "\n",
        "# Load playlist JSON\n",
        "with open(PLAYLIST_JSON_PATH, \"r\") as file:\n",
        "    playlist_data = json.load(file)\n",
        "\n",
        "# Extract dictionary of words to video URLs\n",
        "word_to_video = {key.strip().lower(): value for key, value in playlist_data.items()}\n",
        "\n",
        "# Read input file and process sentences\n",
        "with open(INPUT_WORDS_FILE, \"r\", encoding=\"utf-8\") as file:\n",
        "    raw_content = file.read().strip().lower()\n",
        "\n",
        "# Split sentences using `;`\n",
        "sentences = [sentence.strip() for sentence in raw_content.split(\";\") if sentence.strip()]\n",
        "\n",
        "if not sentences:\n",
        "    raise ValueError(\"❌ No sentences found in input_words.txt. Please add text and try again.\")\n",
        "\n",
        "print(f\"✅ Loaded {len(sentences)} sentences from '{INPUT_WORDS_FILE}'.\")\n",
        "\n",
        "# Create temporary directory for video downloads\n",
        "TEMP_DIR = \"/tmp/isl_videos\"\n",
        "os.makedirs(TEMP_DIR, exist_ok=True)\n",
        "\n",
        "# === FUNCTION TO DOWNLOAD YOUTUBE VIDEO === #\n",
        "def download_video(word, url):\n",
        "    \"\"\"Downloads a YouTube video for a given word and saves it separately.\"\"\"\n",
        "    temp_path = os.path.join(TEMP_DIR, f\"{word}.mp4\")  # Temporary path\n",
        "    save_path = os.path.join(SAVE_DIR, f\"{word}.mp4\")  # Final location\n",
        "\n",
        "    ydl_opts = {\n",
        "        \"outtmpl\": temp_path,\n",
        "        \"format\": \"bestvideo+bestaudio/best\",\n",
        "        \"merge_output_format\": \"mp4\",\n",
        "        \"quiet\": True\n",
        "    }\n",
        "\n",
        "    with yt_dlp.YoutubeDL(ydl_opts) as ydl:\n",
        "        ydl.download([url])\n",
        "\n",
        "    # Move to save directory if download is successful\n",
        "    if os.path.exists(temp_path):\n",
        "        os.rename(temp_path, save_path)\n",
        "        return save_path\n",
        "    else:\n",
        "        return None\n",
        "\n",
        "# === FUNCTION TO FETCH REQUESTED LETTER IMAGES === #\n",
        "def get_requested_images(folder_path, requested_letters):\n",
        "    \"\"\"Fetches specific images for the given letters. Returns a list of valid image file paths.\"\"\"\n",
        "    images = []\n",
        "    for letter in requested_letters:\n",
        "        img_path = os.path.join(folder_path, f\"{letter}.jpg\")  # Assuming filenames are \"a.jpg\", \"b.jpg\", etc.\n",
        "        if os.path.exists(img_path):\n",
        "            images.append(img_path)\n",
        "        else:\n",
        "            print(f\"⚠️ Warning: No image found for letter '{letter}'\")\n",
        "\n",
        "    return images if images else None\n",
        "\n",
        "# === FUNCTION TO CREATE A WORD VIDEO USING LETTER IMAGES === #\n",
        "def create_word_video(word):\n",
        "    \"\"\"Creates a video clip from letter images if no video is found in the playlist.\"\"\"\n",
        "    try:\n",
        "        letter_images = get_requested_images(LETTER_IMAGES_DIR, list(word))\n",
        "        if not letter_images:\n",
        "            return None\n",
        "\n",
        "        letter_clips = [\n",
        "            mp.CompositeVideoClip([mp.ColorClip((1280, 720), color=(0, 0, 0), duration=1),\n",
        "                                   mp.ImageClip(img).resize(height=500).set_position(\"center\").set_duration(1)])\n",
        "            for img in letter_images\n",
        "        ]\n",
        "\n",
        "        final_clip = mp.concatenate_videoclips(letter_clips, method=\"compose\")\n",
        "        output_path = os.path.join(SAVE_DIR, f\"{word}.mp4\")\n",
        "        final_clip.write_videofile(output_path, fps=24, codec=\"libx264\")\n",
        "\n",
        "        return output_path\n",
        "    except Exception as e:\n",
        "        print(f\"⚠️ Error processing word '{word}': {e}\")\n",
        "        return None\n",
        "\n",
        "# === PROCESS SENTENCES === #\n",
        "sentence_clips = []\n",
        "\n",
        "for sentence in sentences:\n",
        "    words = [word.strip() for word in sentence.split(\",\") if word.strip()]\n",
        "    word_clips = []\n",
        "\n",
        "    for word in words:\n",
        "        video_path = os.path.join(SAVE_DIR, f\"{word}.mp4\")\n",
        "\n",
        "        if not os.path.exists(video_path):  # If video isn't already saved\n",
        "            if word in word_to_video:\n",
        "                print(f\"✅ Found ISL video for '{word}', downloading...\")\n",
        "                video_path = download_video(word, word_to_video[word])\n",
        "            else:\n",
        "                print(f\"⚠️ '{word}' not found in playlist. Using letter images.\")\n",
        "                video_path = create_word_video(word)\n",
        "\n",
        "        if video_path and os.path.exists(video_path):\n",
        "            clip = mp.VideoFileClip(video_path).resize(height=720)  # Standardize size\n",
        "            word_clips.append(clip)\n",
        "\n",
        "    if word_clips:\n",
        "        sentence_clip = mp.concatenate_videoclips(word_clips, method=\"compose\")\n",
        "        sentence_clips.append(sentence_clip)\n",
        "\n",
        "# === CONCATENATE SENTENCES INTO FINAL VIDEO === #\n",
        "if sentence_clips:\n",
        "    final_video = mp.concatenate_videoclips(sentence_clips, method=\"compose\")\n",
        "    final_output_path = \"/content/final_output.mp4\"\n",
        "    final_video.write_videofile(final_output_path, fps=24, codec=\"libx264\")\n",
        "\n",
        "    print(f\"🎉 Final video saved at: {final_output_path}\")\n",
        "    files.download(final_output_path)\n",
        "\n",
        "else:\n",
        "    print(\"❌ No valid videos found. Exiting.\")\n"
      ],
      "metadata": {
        "colab": {
          "base_uri": "https://localhost:8080/",
          "height": 315
        },
        "id": "IEuX4dGwRBSh",
        "outputId": "c2a7286d-5ef5-42aa-f842-0e4be4025904"
      },
      "execution_count": null,
      "outputs": [
        {
          "output_type": "stream",
          "name": "stdout",
          "text": [
            "✅ Loaded 1 sentences from '/content/input_words.txt'.\n",
            "✅ Found ISL video for 'i', downloading...\n",
            "✅ Found ISL video for 'good', downloading...\n",
            "✅ Found ISL video for 'day', downloading...\n",
            "✅ Found ISL video for 'have', downloading...\n",
            "Moviepy - Building video /content/final_output.mp4.\n",
            "MoviePy - Writing audio in final_outputTEMP_MPY_wvf_snd.mp3\n"
          ]
        },
        {
          "output_type": "stream",
          "name": "stderr",
          "text": []
        },
        {
          "output_type": "stream",
          "name": "stdout",
          "text": [
            "MoviePy - Done.\n",
            "Moviepy - Writing video /content/final_output.mp4\n",
            "\n"
          ]
        },
        {
          "output_type": "stream",
          "name": "stderr",
          "text": [
            "t:  32%|███▏      | 116/367 [00:12<00:22, 11.15it/s, now=None]WARNING:py.warnings:/usr/local/lib/python3.11/dist-packages/moviepy/video/io/ffmpeg_reader.py:123: UserWarning: Warning: in file /content/i.mp4, 6220800 bytes wanted but 0 bytes read,at frame 120/122, at time 4.80/4.86 sec. Using the last valid frame instead.\n",
            "  warnings.warn(\"Warning: in file %s, \"%(self.filename)+\n",
            "\n"
          ]
        },
        {
          "output_type": "stream",
          "name": "stdout",
          "text": [
            "Moviepy - Done !\n",
            "Moviepy - video ready /content/final_output.mp4\n",
            "🎉 Final video saved at: /content/final_output.mp4\n"
          ]
        },
        {
          "output_type": "display_data",
          "data": {
            "text/plain": [
              "<IPython.core.display.Javascript object>"
            ],
            "application/javascript": [
              "\n",
              "    async function download(id, filename, size) {\n",
              "      if (!google.colab.kernel.accessAllowed) {\n",
              "        return;\n",
              "      }\n",
              "      const div = document.createElement('div');\n",
              "      const label = document.createElement('label');\n",
              "      label.textContent = `Downloading \"${filename}\": `;\n",
              "      div.appendChild(label);\n",
              "      const progress = document.createElement('progress');\n",
              "      progress.max = size;\n",
              "      div.appendChild(progress);\n",
              "      document.body.appendChild(div);\n",
              "\n",
              "      const buffers = [];\n",
              "      let downloaded = 0;\n",
              "\n",
              "      const channel = await google.colab.kernel.comms.open(id);\n",
              "      // Send a message to notify the kernel that we're ready.\n",
              "      channel.send({})\n",
              "\n",
              "      for await (const message of channel.messages) {\n",
              "        // Send a message to notify the kernel that we're ready.\n",
              "        channel.send({})\n",
              "        if (message.buffers) {\n",
              "          for (const buffer of message.buffers) {\n",
              "            buffers.push(buffer);\n",
              "            downloaded += buffer.byteLength;\n",
              "            progress.value = downloaded;\n",
              "          }\n",
              "        }\n",
              "      }\n",
              "      const blob = new Blob(buffers, {type: 'application/binary'});\n",
              "      const a = document.createElement('a');\n",
              "      a.href = window.URL.createObjectURL(blob);\n",
              "      a.download = filename;\n",
              "      div.appendChild(a);\n",
              "      a.click();\n",
              "      div.remove();\n",
              "    }\n",
              "  "
            ]
          },
          "metadata": {}
        },
        {
          "output_type": "display_data",
          "data": {
            "text/plain": [
              "<IPython.core.display.Javascript object>"
            ],
            "application/javascript": [
              "download(\"download_3d099927-31a2-499e-b4c2-f9e13912b090\", \"final_output.mp4\", 847661)"
            ]
          },
          "metadata": {}
        }
      ]
    },
    {
      "cell_type": "markdown",
      "source": [
        "PHASE 3 PREPROCESSING -> playlist_videos dictionary (only had to be run once, output now stored in google drive and linked to step 3)"
      ],
      "metadata": {
        "id": "5MlyqGfEQPQI"
      }
    },
    {
      "cell_type": "code",
      "source": [
        "#STEP 3.0.1 getting playlist_videos.json"
      ],
      "metadata": {
        "id": "jqhkZgLiQike"
      },
      "execution_count": null,
      "outputs": []
    },
    {
      "cell_type": "code",
      "source": [
        "# Install yt-dlp if not installed\n",
        "#!pip install -q yt-dlp\n",
        "\n",
        "import json\n",
        "import yt_dlp\n",
        "\n",
        "# YouTube Playlist URL\n",
        "playlist_url = \"https://youtube.com/playlist?list=PLFjydPMg4Dapq9vcdmGyHs8uJhiqMgUrX&si=uurYj7GMgtnqlSQm\"\n",
        "\n",
        "# Define file paths within Colab's /content directory\n",
        "playlist_json = \"/content/playlist_videos.json\"\n",
        "titles_json = \"/content/video_titles.json\"\n",
        "\n",
        "# Function to fetch all video details from the playlist and store them\n",
        "def fetch_playlist_videos(playlist_url):\n",
        "    print(\"Fetching playlist videos, this may take some time...\")\n",
        "\n",
        "    ydl_opts = {\n",
        "        \"quiet\": True,\n",
        "        \"extract_flat\": True,\n",
        "        \"force_generic_extractor\": True\n",
        "    }\n",
        "\n",
        "    with yt_dlp.YoutubeDL(ydl_opts) as ydl:\n",
        "        playlist_data = ydl.extract_info(playlist_url, download=False)\n",
        "\n",
        "    # Store videos as list of dictionaries\n",
        "    video_data = [{\"title\": video[\"title\"], \"url\": video[\"url\"]} for video in playlist_data[\"entries\"]]\n",
        "    video_titles = [video[\"title\"] for video in playlist_data[\"entries\"]]\n",
        "\n",
        "    # Save to JSON files inside Colab's session storage\n",
        "    with open(playlist_json, \"w\") as f:\n",
        "        json.dump(video_data, f, indent=4)\n",
        "\n",
        "    with open(titles_json, \"w\") as f:\n",
        "        json.dump(video_titles, f, indent=4)\n",
        "\n",
        "    print(f\"✅ Playlist data saved in '{playlist_json}' and '{titles_json}' (in Colab's session storage)\")\n",
        "    return video_data, video_titles\n",
        "\n",
        "# Fetch playlist data and save in /content\n",
        "video_data, video_titles = fetch_playlist_videos(playlist_url)"
      ],
      "metadata": {
        "id": "wRnJ2qsfQnqV",
        "colab": {
          "base_uri": "https://localhost:8080/"
        },
        "outputId": "fa7a72ab-0a66-45fc-afba-1fcff2ef8a20"
      },
      "execution_count": null,
      "outputs": [
        {
          "output_type": "stream",
          "name": "stdout",
          "text": [
            "Fetching playlist videos, this may take some time...\n",
            "✅ Playlist data saved in '/content/playlist_videos.json' and '/content/video_titles.json' (in Colab's session storage)\n"
          ]
        }
      ]
    },
    {
      "cell_type": "code",
      "source": [
        "#STEP 3.0.2 MODIFY and format playlist_videos.json and output modified_playlist_videos.json"
      ],
      "metadata": {
        "id": "SpNzXArlQqYx"
      },
      "execution_count": null,
      "outputs": []
    },
    {
      "cell_type": "code",
      "source": [
        "import re\n",
        "import json\n",
        "\n",
        "# Path of the saved playlist file\n",
        "filename = \"/content/drive/MyDrive/playlist_videos.json\"\n",
        "\n",
        "# Read the file\n",
        "with open(filename, \"r\", encoding=\"utf-8\") as file:\n",
        "    content = file.read()\n",
        "\n",
        "# Define a list of phrases to remove before processing parentheses\n",
        "phrases_to_remove_first = [\"sign 1\", \"sign 2\",\"sign 3\",\"sign 4\",\"sign 5\",\"sign 6\"]\n",
        "\n",
        "# Function to clean up text\n",
        "def process_match(match):\n",
        "    phrase = match.group(1)\n",
        "\n",
        "    # Remove \"sign 1\" and \"sign 2\" before handling parentheses\n",
        "    for unwanted in phrases_to_remove_first:\n",
        "        phrase = re.sub(rf'\\b{re.escape(unwanted)}\\b', '', phrase, flags=re.IGNORECASE)\n",
        "\n",
        "    # Remove everything inside parentheses along with the parentheses\n",
        "    phrase = re.sub(r'\\s*\\(.*?\\)\\s*', '', phrase)\n",
        "\n",
        "    # Remove extra spaces created due to removals\n",
        "    phrase = re.sub(r'\\s+', ' ', phrase).strip()\n",
        "\n",
        "    # Replace spaces with underscores\n",
        "    phrase = phrase.replace(\" \", \"_\")\n",
        "\n",
        "    return f'\"{phrase}\"'\n",
        "\n",
        "# Apply transformations\n",
        "modified_content = re.sub(r'\"(.*?)\"', process_match, content)\n",
        "\n",
        "# Save the modified content in Colab's session storage\n",
        "output_filename = \"/content/modified_playlist_videos.json\"\n",
        "with open(output_filename, \"w\", encoding=\"utf-8\") as file:\n",
        "    file.write(modified_content)\n",
        "\n",
        "print(f\"✅ Modified JSON file saved at '{output_filename}' in Colab's session storage.\")"
      ],
      "metadata": {
        "id": "y0Nk5nVOQslW",
        "colab": {
          "base_uri": "https://localhost:8080/"
        },
        "outputId": "61d472ef-6f97-4bc5-b765-20d1e6a543da"
      },
      "execution_count": null,
      "outputs": [
        {
          "output_type": "stream",
          "name": "stdout",
          "text": [
            "✅ Modified JSON file saved at '/content/modified_playlist_videos.json' in Colab's session storage.\n"
          ]
        }
      ]
    }
  ]
}